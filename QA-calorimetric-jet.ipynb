{
 "cells": [
  {
   "cell_type": "markdown",
   "metadata": {},
   "source": [
    "# Introduction\n",
    "\n",
    "QA plots for the single particle in calorimeters and reconstructed as calorimetric jet objects"
   ]
  },
  {
   "cell_type": "code",
   "execution_count": 1,
   "metadata": {},
   "outputs": [],
   "source": [
    "# imports to write dynamic markdown contents\n",
    "import os\n",
    "from IPython.display import display, Markdown, Latex\n",
    "from IPython.display import HTML"
   ]
  },
  {
   "cell_type": "code",
   "execution_count": 2,
   "metadata": {},
   "outputs": [
    {
     "data": {
      "text/markdown": [
       "*For the result HTML page:* "
      ],
      "text/plain": [
       "<IPython.core.display.Markdown object>"
      ]
     },
     "metadata": {},
     "output_type": "display_data"
    },
    {
     "data": {
      "text/html": [
       "<script>\n",
       "code_show=true; \n",
       "function code_toggle() {\n",
       " if (code_show){\n",
       " $('div.input').hide();\n",
       " } else {\n",
       " $('div.input').show();\n",
       " }\n",
       " code_show = !code_show\n",
       "} \n",
       "$( document ).ready(code_toggle);\n",
       "</script>\n",
       "<form action=\"javascript:code_toggle()\"><input type=\"submit\" value=\"Click here to toggle on/off the raw code.\"></form>"
      ],
      "text/plain": [
       "<IPython.core.display.HTML object>"
      ]
     },
     "execution_count": 2,
     "metadata": {},
     "output_type": "execute_result"
    }
   ],
   "source": [
    "# turn off/on code for the result HTML page\n",
    "\n",
    "display(Markdown('*For the result HTML page:* '))\n",
    "    \n",
    "HTML('''<script>\n",
    "code_show=true; \n",
    "function code_toggle() {\n",
    " if (code_show){\n",
    " $('div.input').hide();\n",
    " } else {\n",
    " $('div.input').show();\n",
    " }\n",
    " code_show = !code_show\n",
    "} \n",
    "$( document ).ready(code_toggle);\n",
    "</script>\n",
    "<form action=\"javascript:code_toggle()\"><input type=\"submit\" value=\"Click here to toggle on/off the raw code.\"></form>''')"
   ]
  },
  {
   "cell_type": "code",
   "execution_count": 3,
   "metadata": {},
   "outputs": [
    {
     "data": {
      "text/markdown": [
       "pyROOT env check:"
      ],
      "text/plain": [
       "<IPython.core.display.Markdown object>"
      ]
     },
     "metadata": {},
     "output_type": "display_data"
    },
    {
     "name": "stdout",
     "output_type": "stream",
     "text": [
      "Welcome to JupyROOT 6.22/02\n"
     ]
    },
    {
     "data": {
      "text/markdown": [
       "via sPHENIX software distribution at `/cvmfs/sphenix.sdcc.bnl.gov/gcc-8.3/release/release_new/new.1`"
      ],
      "text/plain": [
       "<IPython.core.display.Markdown object>"
      ]
     },
     "metadata": {},
     "output_type": "display_data"
    }
   ],
   "source": [
    "# initialization\n",
    "\n",
    "display(Markdown('pyROOT env check:'))\n",
    "\n",
    "import ROOT\n",
    "\n",
    "OFFLINE_MAIN = os.getenv(\"OFFLINE_MAIN\")\n",
    "if OFFLINE_MAIN is not None:\n",
    "    display(Markdown(f\"via sPHENIX software distribution at `{OFFLINE_MAIN}`\"))"
   ]
  },
  {
   "cell_type": "code",
   "execution_count": 4,
   "metadata": {},
   "outputs": [
    {
     "data": {
      "text/markdown": [
       "View the source code repository at https://github.com/sPHENIX-Collaboration/QA-gallery.git"
      ],
      "text/plain": [
       "<IPython.core.display.Markdown object>"
      ]
     },
     "metadata": {},
     "output_type": "display_data"
    }
   ],
   "source": [
    "import subprocess\n",
    "\n",
    "try:\n",
    "    git_url = \\\n",
    "        subprocess.run(['git','remote','get-url','origin'], stdout=subprocess.PIPE)\\\n",
    "        .stdout.decode('utf-8').strip()\\\n",
    "        .replace('git@github.com:','https://github.com/')\n",
    "\n",
    "    display(Markdown(f\"View the source code repository at {git_url}\"))\n",
    "except: # catch *all* exceptions\n",
    "    #     well do nothing\n",
    "    pass\n"
   ]
  },
  {
   "cell_type": "code",
   "execution_count": 5,
   "metadata": {},
   "outputs": [
    {
     "data": {
      "text/markdown": [
       "Some further details about the QA run, if executed under the Jenkins CI:"
      ],
      "text/plain": [
       "<IPython.core.display.Markdown object>"
      ]
     },
     "metadata": {},
     "output_type": "display_data"
    }
   ],
   "source": [
    "display(Markdown('Some further details about the QA run, if executed under the Jenkins CI:'))\n",
    "\n",
    "checkrun_repo_commit = os.getenv(\"checkrun_repo_commit\")\n",
    "if checkrun_repo_commit is not None:\n",
    "    display(Markdown(f\"* The commit being checked is {checkrun_repo_commit}\"))\n",
    "        \n",
    "ghprbPullLink = os.getenv(\"ghprbPullLink\")\n",
    "if ghprbPullLink is not None:\n",
    "    display(Markdown(f\"* Link to the pull request: {ghprbPullLink}\"))\n",
    "\n",
    "BUILD_URL =  os.getenv(\"BUILD_URL\")\n",
    "if BUILD_URL is not None:\n",
    "    display(Markdown(f\"* Link to the build: {BUILD_URL}\"))\n",
    "\n",
    "RUN_ARTIFACTS_DISPLAY_URL = os.getenv(\"RUN_ARTIFACTS_DISPLAY_URL\")\n",
    "if RUN_ARTIFACTS_DISPLAY_URL is not None:\n",
    "    display(Markdown(f\"* Download the QA ROOT files: {RUN_ARTIFACTS_DISPLAY_URL}\"))\n",
    "\n",
    "JENKINS_URL  = os.getenv(\"JENKINS_URL\")\n",
    "if JENKINS_URL is not None:\n",
    "    display(Markdown(f\"Automatically generated by [sPHENIX Jenkins continuous integration]({JENKINS_URL}) [![sPHENIX](https://raw.githubusercontent.com/sPHENIX-Collaboration/utilities/master/jenkins/material/sphenix-logo-white-bg-72p.png)](https://www.sphenix.bnl.gov/web/) &nbsp; &nbsp; &nbsp; &nbsp; &nbsp; &nbsp; [![jenkins.io](https://raw.githubusercontent.com/sPHENIX-Collaboration/utilities/master/jenkins/material/jenkins_logo_title-72p.png)](https://jenkins.io/)\"))"
   ]
  },
  {
   "cell_type": "markdown",
   "metadata": {},
   "source": [
    "\n",
    "# Initialization"
   ]
  },
  {
   "cell_type": "code",
   "execution_count": 6,
   "metadata": {
    "scrolled": true
   },
   "outputs": [],
   "source": [
    "%%cpp -d\n",
    "\n",
    "#include \"QA_Draw_Utility.C\"\n",
    "\n",
    "#include <sPhenixStyle.C>\n",
    "\n",
    "#include <TFile.h>\n",
    "#include <TLine.h>\n",
    "#include <TString.h>\n",
    "#include <TTree.h>\n",
    "#include <cassert>\n",
    "#include <cmath>"
   ]
  },
  {
   "cell_type": "code",
   "execution_count": 7,
   "metadata": {},
   "outputs": [
    {
     "name": "stdout",
     "output_type": "stream",
     "text": [
      "sPhenixStyle: Applying nominal settings.\n",
      "sPhenixStyle: ROOT6 mode\n"
     ]
    }
   ],
   "source": [
    "%%cpp\n",
    "\n",
    "SetsPhenixStyle();\n",
    "TVirtualFitter::SetDefaultFitter(\"Minuit2\");\n",
    "\n",
    "// test sPHENIX lib load\n",
    "// gSystem->Load(\"libg4eval.so\");\n",
    "\n",
    "// test libs\n",
    "// gSystem->ListLibraries();"
   ]
  },
  {
   "cell_type": "markdown",
   "metadata": {},
   "source": [
    "## Inputs and file checks"
   ]
  },
  {
   "cell_type": "code",
   "execution_count": 8,
   "metadata": {},
   "outputs": [
    {
     "data": {
      "text/markdown": [
       "`qa_file_name_new` env not set. use the default `qa_file_name_new=G4sPHENIX_e-_pT4_Sum15_qa.root`"
      ],
      "text/plain": [
       "<IPython.core.display.Markdown object>"
      ]
     },
     "metadata": {},
     "output_type": "display_data"
    },
    {
     "data": {
      "text/markdown": [
       "`qa_file_name_ref` env not set. use the default `qa_file_name_ref=reference/G4sPHENIX_e-_pT4_Sum15_qa.root`"
      ],
      "text/plain": [
       "<IPython.core.display.Markdown object>"
      ]
     },
     "metadata": {},
     "output_type": "display_data"
    }
   ],
   "source": [
    "\n",
    "qa_file_name_new = os.getenv(\"qa_file_name_new\")\n",
    "if qa_file_name_new is None:\n",
    "    qa_file_name_new = \"G4sPHENIX_e-_pT4_Sum15_qa.root\"\n",
    "    display(Markdown(f\"`qa_file_name_new` env not set. use the default `qa_file_name_new={qa_file_name_new}`\"))\n",
    "\n",
    "qa_file_name_ref = os.getenv(\"qa_file_name_ref\")\n",
    "if qa_file_name_ref is None:\n",
    "    qa_file_name_ref = \"reference/G4sPHENIX_e-_pT4_Sum15_qa.root\"\n",
    "    display(Markdown(f\"`qa_file_name_ref` env not set. use the default `qa_file_name_ref={qa_file_name_ref}`\"))\n",
    "elif qa_file_name_ref == 'None':\n",
    "    qa_file_name_ref = None\n",
    "    display(Markdown(f\"`qa_file_name_ref` = None and we are set to not to use the reference histograms\"))\n",
    "    \n"
   ]
  },
  {
   "cell_type": "code",
   "execution_count": 9,
   "metadata": {},
   "outputs": [
    {
     "data": {
      "text/markdown": [
       "Openning QA file at `G4sPHENIX_e-_pT4_Sum15_qa.root`"
      ],
      "text/plain": [
       "<IPython.core.display.Markdown object>"
      ]
     },
     "metadata": {},
     "output_type": "display_data"
    },
    {
     "data": {
      "text/markdown": [
       "Openning QA reference file at `reference/G4sPHENIX_e-_pT4_Sum15_qa.root`"
      ],
      "text/plain": [
       "<IPython.core.display.Markdown object>"
      ]
     },
     "metadata": {},
     "output_type": "display_data"
    }
   ],
   "source": [
    "# qa_file_new = ROOT.TFile.Open(qa_file_name_new);\n",
    "\n",
    "# assert qa_file_new.IsOpen()\n",
    "# qa_file_new.ls()\n",
    "display(Markdown(f\"Openning QA file at `{qa_file_name_new}`\"))\n",
    "ROOT.gInterpreter.ProcessLine(f\"TFile *qa_file_new = new TFile(\\\"{qa_file_name_new}\\\");\")\n",
    "ROOT.gInterpreter.ProcessLine(f\"const char * qa_file_name_new = \\\"{qa_file_name_new}\\\";\")\n",
    "\n",
    "if qa_file_name_ref is not None:\n",
    "#     qa_file_ref = ROOT.TFile.Open(qa_file_name_ref);\n",
    "\n",
    "#     assert qa_file_ref.IsOpen()\n",
    "    display(Markdown(f\"Openning QA reference file at `{qa_file_name_ref}`\"))\n",
    "    ROOT.gInterpreter.ProcessLine(f\"TFile *qa_file_ref = new TFile(\\\"{qa_file_name_ref}\\\");\")\n",
    "    ROOT.gInterpreter.ProcessLine(f\"const char *  qa_file_name_ref = \\\"{qa_file_name_ref}\\\";\")\n",
    "else:\n",
    "    ROOT.gInterpreter.ProcessLine(f\"TFile *qa_file_ref = nullptr;\")\n",
    "    ROOT.gInterpreter.ProcessLine(f\"const char *  qa_file_name_ref = nullptr;\")\n"
   ]
  },
  {
   "cell_type": "code",
   "execution_count": 10,
   "metadata": {
    "scrolled": true
   },
   "outputs": [],
   "source": [
    "%%cpp\n",
    "\n",
    "if (qa_file_new == nullptr) \n",
    "{\n",
    "    cout <<\"Error, can not open QA root file\"<<qa_file_name_new<<endl;\n",
    "    exit(1);\n",
    "}\n",
    "\n",
    "// list inputs histograms if needed\n",
    "// qa_file_new ->ls();\n",
    "\n",
    "//TFile *qa_file_ref = NULL;\n",
    "//if (qa_file_name_ref)\n",
    "//{\n",
    "//    qa_file_ref = new TFile(qa_file_name_ref);\n",
    "//  \n",
    "//    if (qa_file_ref == nullptr) \n",
    "//    {\n",
    "//        cout <<\"Error, can not open QA root file\"<<qa_file_name_ref<<endl;\n",
    "//        exit(1);\n",
    "//    }\n",
    "//}"
   ]
  },
  {
   "cell_type": "code",
   "execution_count": 11,
   "metadata": {},
   "outputs": [],
   "source": [
    "%%cpp -d\n",
    "\n",
    "// Jet utility functions\n",
    "\n",
    "\n",
    "void QA_Draw_Jet_Spectrum(\n",
    "    const char *jet = \"h_QAG4SimJet_AntiKt_Truth_r07\")\n",
    "{\n",
    "\n",
    "  // obtain normalization\n",
    "  double Nevent_new = 1;\n",
    "  double Nevent_ref = 1;\n",
    "\n",
    "  if (qa_file_new)\n",
    "  {\n",
    "    TH1D *h_norm = (TH1D *) qa_file_new->GetObjectChecked(\n",
    "        TString(jet) + TString(\"_Normalization\"), \"TH1D\");\n",
    "    assert(h_norm);\n",
    "\n",
    "    Nevent_new = h_norm->GetBinContent(h_norm->GetXaxis()->FindBin(\"Event\"));\n",
    "  }\n",
    "  if (qa_file_ref)\n",
    "  {\n",
    "    TH1D *h_norm = (TH1D *) qa_file_ref->GetObjectChecked(\n",
    "        TString(jet) + TString(\"_Normalization\"), \"TH1D\");\n",
    "    assert(h_norm);\n",
    "\n",
    "    Nevent_ref = h_norm->GetBinContent(h_norm->GetXaxis()->FindBin(\"Event\"));\n",
    "  }\n",
    "\n",
    "  TCanvas *c1 = new TCanvas(TString(\"QA_Draw_Jet_Spectrum_\") + TString(jet),\n",
    "                            TString(\"QA_Draw_Jet_Spectrum_\") + TString(jet), 1800, 1000);\n",
    "  c1->Divide(4, 2);\n",
    "  int idx = 1;\n",
    "  TPad *p;\n",
    "\n",
    "  p = (TPad *) c1->cd(idx++);\n",
    "  c1->Update();\n",
    "  p->SetLogy();\n",
    "\n",
    "  {\n",
    "    TH1F *h_new = (TH1F *) qa_file_new->GetObjectChecked(\n",
    "        TString(jet) + TString(\"_Leading_eta\"), \"TH1F\");\n",
    "    assert(h_new);\n",
    "\n",
    "    h_new->Rebin(2);\n",
    "    // h_new->Sumw2();\n",
    "    h_new->Scale(1. / Nevent_new);\n",
    "\n",
    "    TH1F *h_ref = NULL;\n",
    "    if (qa_file_ref)\n",
    "    {\n",
    "      h_ref = (TH1F *) qa_file_ref->GetObjectChecked(\n",
    "          TString(jet) + TString(\"_Leading_eta\"), \"TH1F\");\n",
    "      assert(h_ref);\n",
    "\n",
    "      h_ref->Rebin(2);\n",
    "      h_ref->Scale(1. / Nevent_ref);\n",
    "    }\n",
    "\n",
    "    h_new->GetYaxis()->SetTitleOffset(1.5);\n",
    "    h_new->GetYaxis()->SetTitle(\"Count / event / bin\");\n",
    "    //      h_new->GetXaxis()->SetRangeUser(-0, .1);\n",
    "\n",
    "    DrawReference(h_new, h_ref);\n",
    "  }\n",
    "\n",
    "  p = (TPad *) c1->cd(idx++);\n",
    "  c1->Update();\n",
    "  p->SetLogy();\n",
    "\n",
    "  {\n",
    "    TH1F *h_new = (TH1F *) qa_file_new->GetObjectChecked(\n",
    "        TString(jet) + TString(\"_Leading_phi\"), \"TH1F\");\n",
    "    assert(h_new);\n",
    "\n",
    "    h_new->Rebin(2);\n",
    "    // h_new->Sumw2();\n",
    "    h_new->Scale(1. / Nevent_new);\n",
    "\n",
    "    TH1F *h_ref = NULL;\n",
    "    if (qa_file_ref)\n",
    "    {\n",
    "      h_ref = (TH1F *) qa_file_ref->GetObjectChecked(\n",
    "          TString(jet) + TString(\"_Leading_phi\"), \"TH1F\");\n",
    "      assert(h_ref);\n",
    "\n",
    "      h_ref->Rebin(2);\n",
    "      h_ref->Scale(1. / Nevent_ref);\n",
    "    }\n",
    "\n",
    "    h_new->GetYaxis()->SetTitleOffset(1.5);\n",
    "    h_new->GetYaxis()->SetTitle(\"Count / event / bin\");\n",
    "    //      h_new->GetXaxis()->SetRangeUser(-0, .1);\n",
    "\n",
    "    DrawReference(h_new, h_ref);\n",
    "  }\n",
    "\n",
    "  p = (TPad *) c1->cd(idx++);\n",
    "  c1->Update();\n",
    "  p->SetLogy();\n",
    "\n",
    "  {\n",
    "    TH1F *h_new = (TH1F *) qa_file_new->GetObjectChecked(\n",
    "        TString(jet) + TString(\"_Leading_Et\"), \"TH1F\");\n",
    "    assert(h_new);\n",
    "\n",
    "    // h_new->Sumw2();\n",
    "    h_new->Scale(1. / Nevent_new);\n",
    "\n",
    "    TH1F *h_ref = NULL;\n",
    "    if (qa_file_ref)\n",
    "    {\n",
    "      h_ref = (TH1F *) qa_file_ref->GetObjectChecked(\n",
    "          TString(jet) + TString(\"_Leading_Et\"), \"TH1F\");\n",
    "      assert(h_ref);\n",
    "\n",
    "      h_ref->Scale(1. / Nevent_ref);\n",
    "    }\n",
    "\n",
    "    h_new->GetYaxis()->SetTitleOffset(1.5);\n",
    "    h_new->GetYaxis()->SetTitle(\"Count / event / bin\");\n",
    "    //      h_new->GetXaxis()->SetRangeUser(-0, .1);\n",
    "\n",
    "    DrawReference(h_new, h_ref);\n",
    "  }\n",
    "\n",
    "  p = (TPad *) c1->cd(idx++);\n",
    "  c1->Update();\n",
    "  p->SetLogy();\n",
    "\n",
    "  {\n",
    "    TH1F *h_new = (TH1F *) qa_file_new->GetObjectChecked(\n",
    "        TString(jet) + TString(\"_Leading_Mass\"), \"TH1F\");\n",
    "    assert(h_new);\n",
    "\n",
    "    h_new->Rebin(2);\n",
    "    // h_new->Sumw2();\n",
    "    h_new->Scale(1. / Nevent_new);\n",
    "\n",
    "    TH1F *h_ref = NULL;\n",
    "    if (qa_file_ref)\n",
    "    {\n",
    "      h_ref = (TH1F *) qa_file_ref->GetObjectChecked(\n",
    "          TString(jet) + TString(\"_Leading_Mass\"), \"TH1F\");\n",
    "      assert(h_ref);\n",
    "\n",
    "      h_ref->Rebin(2);\n",
    "      h_ref->Scale(1. / Nevent_ref);\n",
    "    }\n",
    "\n",
    "    h_new->GetYaxis()->SetTitleOffset(1.5);\n",
    "    h_new->GetYaxis()->SetTitle(\"Count / event / bin\");\n",
    "    //      h_new->GetXaxis()->SetRangeUser(-0, .1);\n",
    "\n",
    "    DrawReference(h_new, h_ref);\n",
    "  }\n",
    "\n",
    "  p = (TPad *) c1->cd(idx++);\n",
    "  c1->Update();\n",
    "  p->SetLogx();\n",
    "\n",
    "  {\n",
    "    TH1F *h_new = (TH1F *) qa_file_new->GetObjectChecked(\n",
    "        TString(jet) + TString(\"_Leading_CompSize\"), \"TH1F\");\n",
    "    assert(h_new);\n",
    "\n",
    "    h_new->Rebin(2);\n",
    "    // h_new->Sumw2();\n",
    "    h_new->Scale(1. / Nevent_new);\n",
    "\n",
    "    TH1F *h_ref = NULL;\n",
    "    if (qa_file_ref)\n",
    "    {\n",
    "      h_ref = (TH1F *) qa_file_ref->GetObjectChecked(\n",
    "          TString(jet) + TString(\"_Leading_CompSize\"), \"TH1F\");\n",
    "      assert(h_ref);\n",
    "\n",
    "      h_ref->Rebin(2);\n",
    "      h_ref->Scale(1. / Nevent_ref);\n",
    "    }\n",
    "\n",
    "    h_new->GetYaxis()->SetTitleOffset(1.5);\n",
    "    h_new->GetYaxis()->SetTitle(\"Count / event / bin\");\n",
    "    //      h_new->GetXaxis()->SetRangeUser(-0, .1);\n",
    "\n",
    "    DrawReference(h_new, h_ref);\n",
    "  }\n",
    "\n",
    "  p = (TPad *) c1->cd(idx++);\n",
    "  c1->Update();\n",
    "  p->SetLogy();\n",
    "\n",
    "  {\n",
    "    TH1F *h_new = (TH1F *) qa_file_new->GetObjectChecked(\n",
    "        TString(jet) + TString(\"_Leading_CEMC_Ratio\"), \"TH1F\");\n",
    "    assert(h_new);\n",
    "\n",
    "    h_new->Rebin(2);\n",
    "    // h_new->Sumw2();\n",
    "    h_new->Scale(1. / Nevent_new);\n",
    "\n",
    "    TH1F *h_ref = NULL;\n",
    "    if (qa_file_ref)\n",
    "    {\n",
    "      h_ref = (TH1F *) qa_file_ref->GetObjectChecked(\n",
    "          TString(jet) + TString(\"_Leading_CEMC_Ratio\"), \"TH1F\");\n",
    "      assert(h_ref);\n",
    "\n",
    "      h_ref->Rebin(2);\n",
    "      h_ref->Scale(1. / Nevent_ref);\n",
    "    }\n",
    "\n",
    "    h_new->GetYaxis()->SetTitleOffset(1.5);\n",
    "    h_new->GetYaxis()->SetTitle(\"Count / event / bin\");\n",
    "    //      h_new->GetXaxis()->SetRangeUser(-0, .1);\n",
    "\n",
    "    DrawReference(h_new, h_ref);\n",
    "  }\n",
    "\n",
    "  p = (TPad *) c1->cd(idx++);\n",
    "  c1->Update();\n",
    "  p->SetLogy();\n",
    "\n",
    "  {\n",
    "    TH1F *h_new = (TH1F *) qa_file_new->GetObjectChecked(\n",
    "        TString(jet) + TString(\"_Leading_CEMC_HCalIN_Ratio\"), \"TH1F\");\n",
    "    assert(h_new);\n",
    "\n",
    "    h_new->Rebin(2);\n",
    "    // h_new->Sumw2();\n",
    "    h_new->Scale(1. / Nevent_new);\n",
    "\n",
    "    TH1F *h_ref = NULL;\n",
    "    if (qa_file_ref)\n",
    "    {\n",
    "      h_ref = (TH1F *) qa_file_ref->GetObjectChecked(\n",
    "          TString(jet) + TString(\"_Leading_CEMC_HCalIN_Ratio\"), \"TH1F\");\n",
    "      assert(h_ref);\n",
    "\n",
    "      h_ref->Rebin(2);\n",
    "      h_ref->Scale(1. / Nevent_ref);\n",
    "    }\n",
    "\n",
    "    h_new->GetYaxis()->SetTitleOffset(1.5);\n",
    "    h_new->GetYaxis()->SetTitle(\"Count / event / bin\");\n",
    "    //      h_new->GetXaxis()->SetRangeUser(-0, .1);\n",
    "\n",
    "    DrawReference(h_new, h_ref);\n",
    "  }\n",
    "\n",
    "  if (TString(jet).Contains(\"Truth\"))\n",
    "  {\n",
    "    // truth jets\n",
    "\n",
    "    p = (TPad *) c1->cd(idx++);\n",
    "    c1->Update();\n",
    "    p->SetLogy();\n",
    "\n",
    "    {\n",
    "      TH1F *h_new = (TH1F *) qa_file_new->GetObjectChecked(\n",
    "          TString(jet) + TString(\"_Leading_Leakage_Ratio\"), \"TH1F\");\n",
    "      assert(h_new);\n",
    "\n",
    "      h_new->Rebin(2);\n",
    "      // h_new->Sumw2();\n",
    "      h_new->Scale(1. / Nevent_new);\n",
    "\n",
    "      TH1F *h_ref = NULL;\n",
    "      if (qa_file_ref)\n",
    "      {\n",
    "        h_ref = (TH1F *) qa_file_ref->GetObjectChecked(\n",
    "            TString(jet) + TString(\"_Leading_Leakage_Ratio\"), \"TH1F\");\n",
    "        assert(h_ref);\n",
    "\n",
    "        h_ref->Rebin(2);\n",
    "        h_ref->Scale(1. / Nevent_ref);\n",
    "      }\n",
    "\n",
    "      h_new->GetYaxis()->SetTitleOffset(1.5);\n",
    "      h_new->GetYaxis()->SetTitle(\"Count / event / bin\");\n",
    "      //      h_new->GetXaxis()->SetRangeUser(-0, .1);\n",
    "\n",
    "      DrawReference(h_new, h_ref);\n",
    "    }\n",
    "  }\n",
    "\n",
    "//  PutInputFileName(c1, .04, qa_file_name_new, qa_file_name_ref);\n",
    "    c1->Draw();\n",
    "    \n",
    "      SaveCanvas(c1, TString(qa_file_name_new) + TString(c1->GetName()), false);\n",
    "    \n",
    "}\n"
   ]
  },
  {
   "cell_type": "markdown",
   "metadata": {},
   "source": [
    "# $R=0.7$ Jets\n",
    "\n",
    "Check the particular set of jets with $R=0.7$ parameters"
   ]
  },
  {
   "cell_type": "markdown",
   "metadata": {},
   "source": [
    "## Truth jet spectrum\n",
    "\n",
    "Jet the details of the truth jet. Since only one particle is used in this simulation, the number of component is 1 and jet mass is 0."
   ]
  },
  {
   "cell_type": "code",
   "execution_count": 12,
   "metadata": {},
   "outputs": [
    {
     "name": "stderr",
     "output_type": "stream",
     "text": [
      "Info in <TCanvas::Print>: png file G4sPHENIX_e-_pT4_Sum15_qa.rootQA_Draw_Jet_Spectrum_h_QAG4SimJet_AntiKt_Truth_r07.png has been created\n",
      "Info in <TCanvas::SaveAs>: ROOT file G4sPHENIX_e-_pT4_Sum15_qa.rootQA_Draw_Jet_Spectrum_h_QAG4SimJet_AntiKt_Truth_r07.root has been created\n"
     ]
    },
    {
     "data": {
      "image/png": "[encoded data removed]",
      "text/plain": [
       "<IPython.core.display.Image object>"
      ]
     },
     "metadata": {},
     "output_type": "display_data"
    }
   ],
   "source": [
    "%%cpp\n",
    "\n",
    "QA_Draw_Jet_Spectrum(\"h_QAG4SimJet_AntiKt_Truth_r07\");\n"
   ]
  }
 ],
 "metadata": {
  "kernelspec": {
   "display_name": "Python (sPHENIX)",
   "language": "python",
   "name": "sphenix-env"
  },
  "language_info": {
   "codemirror_mode": {
    "name": "ipython",
    "version": 3
   },
   "file_extension": ".py",
   "mimetype": "text/x-python",
   "name": "python",
   "nbconvert_exporter": "python",
   "pygments_lexer": "ipython3",
   "version": "3.8.0"
  }
 },
 "nbformat": 4,
 "nbformat_minor": 4
}
